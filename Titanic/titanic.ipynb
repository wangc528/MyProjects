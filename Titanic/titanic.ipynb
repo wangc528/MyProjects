{
 "cells": [
  {
   "cell_type": "markdown",
   "metadata": {},
   "source": [
    "<h1 align=\"center\">Titanic Survivor Analysis</h1>"
   ]
  },
  {
   "cell_type": "markdown",
   "metadata": {},
   "source": [
    "<font size=\"4\" color=\"blue\" face=\"verdana\"> Titanic Data Contains demographics and passenger information from 891 of the 2224 passengers and crew on board the Titanic. This study analyzed What factors made people more likely to survive, including Gender, Class, and Age etc..Data Wrangling has been performed fisrt to clean up the data. Various kinds of table and chart have been used for data visulation. A conclusion is drawed from the analysis finally</font>"
   ]
  },
  {
   "cell_type": "code",
   "execution_count": 45,
   "metadata": {
    "collapsed": true
   },
   "outputs": [],
   "source": [
    "#Import Libiraries\n",
    "import matplotlib.pyplot as plt\n",
    "import numpy as np\n",
    "import pandas as pd\n",
    "import seaborn as sns\n",
    "import math\n",
    "%matplotlib inline"
   ]
  },
  {
   "cell_type": "code",
   "execution_count": 46,
   "metadata": {
    "collapsed": false
   },
   "outputs": [
    {
     "name": "stdout",
     "output_type": "stream",
     "text": [
      "<class 'pandas.core.frame.DataFrame'>\n",
      "RangeIndex: 891 entries, 0 to 890\n",
      "Data columns (total 12 columns):\n",
      "PassengerId    891 non-null int64\n",
      "Survived       891 non-null int64\n",
      "Pclass         891 non-null int64\n",
      "Name           891 non-null object\n",
      "Sex            891 non-null object\n",
      "Age            714 non-null float64\n",
      "SibSp          891 non-null int64\n",
      "Parch          891 non-null int64\n",
      "Ticket         891 non-null object\n",
      "Fare           891 non-null float64\n",
      "Cabin          204 non-null object\n",
      "Embarked       889 non-null object\n",
      "dtypes: float64(2), int64(5), object(5)\n",
      "memory usage: 83.6+ KB\n",
      "NaN Ages: 177\n"
     ]
    }
   ],
   "source": [
    "titanic_data = pd.read_csv('titanic-data.csv')\n",
    "titanic_data.info()\n",
    "titanic_data['SibSpOrNot'] = (titanic_data['SibSp'] != 0)\n",
    "titanic_data['ParchOrNot'] = (titanic_data['Parch'] != 0)\n",
    "titanic_data.head(5)\n",
    "print \"NaN Ages:\",sum(pd.isnull(titanic_data['Age']))"
   ]
  },
  {
   "cell_type": "markdown",
   "metadata": {},
   "source": [
    "<font size=\"4\" color=\"blue\" face=\"verdana\">Initial review of the data shows that the csv file contains the following attributes: PassengerId, Survived or Not, Class, Sex, Age, SibSp, Parch, Ticket number, Fare, and Embarked locations. SibSpOrNot, ParchOrNot and AgeGroup are added the group for futher analysis. \n",
    "\n",
    "Data Wrangling: Some age data is missing, which is shown as NaN. There are 177 NaN ages in the files. These values will be ignored in Age-Suvival correlation analysis."
   ]
  },
  {
   "cell_type": "code",
   "execution_count": 47,
   "metadata": {
    "collapsed": false
   },
   "outputs": [],
   "source": [
    "# Calculate the percentage of survivors group by different factors\n",
    "def calculate_percentage(groupby_factor, groupby_detail):\n",
    "    group = titanic_data.groupby(groupby_factor).count()['PassengerId']\n",
    "    group_survived = titanic_data.groupby(groupby_factor).sum()['Survived']\n",
    "    \n",
    "    percentage = float(group_survived[groupby_detail])/(group[groupby_detail])\n",
    "    return [percentage, group_survived[groupby_detail], group[groupby_detail]]"
   ]
  },
  {
   "cell_type": "code",
   "execution_count": 48,
   "metadata": {
    "collapsed": false
   },
   "outputs": [],
   "source": [
    "#plot the results by\n",
    "def plot_survived(percentage, x_labels, title):\n",
    "    plt.figure(figsize=(4, 2))\n",
    "    fig = pd.Series.from_array(percentage).plot(kind='bar')\n",
    "    fig.set_title(title)\n",
    "    fig.set_xticklabels(x_labels,rotation=0)\n",
    "    return None"
   ]
  },
  {
   "cell_type": "code",
   "execution_count": 49,
   "metadata": {
    "collapsed": false
   },
   "outputs": [
    {
     "name": "stdout",
     "output_type": "stream",
     "text": [
      "percentage of survived 38.38% ( 342 / 891 )\n"
     ]
    }
   ],
   "source": [
    "total_passenger = titanic_data.shape[0]\n",
    "total_survived = titanic_data['Survived'].sum()\n",
    "percent_survived = float(total_survived)/total_passenger\n",
    "print 'percentage of survived', '{:.2%}'.format(percent_survived),'(',total_survived,'/',total_passenger,')'"
   ]
  },
  {
   "cell_type": "markdown",
   "metadata": {},
   "source": [
    "<font size=\"4\" color=\"blue\" face=\"verdana\">The percentage of survived in the population is 38.38, which is the baseline of the following analysis."
   ]
  },
  {
   "cell_type": "code",
   "execution_count": 50,
   "metadata": {
    "collapsed": false
   },
   "outputs": [
    {
     "name": "stdout",
     "output_type": "stream",
     "text": [
      "percentage of female survived 74.20% ( 233 / 314 )\n",
      "percentage of male survived 18.89% ( 109 / 577 )\n"
     ]
    },
    {
     "data": {
      "image/png": "[encoded data removed]",
      "text/plain": [
       "<matplotlib.figure.Figure at 0xc9d45c0>"
      ]
     },
     "metadata": {},
     "output_type": "display_data"
    }
   ],
   "source": [
    "percent_survived_female = calculate_percentage('Sex','female')\n",
    "percent_survived_male = calculate_percentage('Sex','male')\n",
    "\n",
    "print 'percentage of female survived', '{:.2%}'.format(percent_survived_female[0]),'(',percent_survived_female[1],'/',percent_survived_female[2],')'\n",
    "print 'percentage of male survived', '{:.2%}'.format(percent_survived_male[0]),'(',percent_survived_male[1],'/',percent_survived_male[2],')'\n",
    "\n",
    "plot_survived([percent_survived_female[0],percent_survived_male[0]], \\\n",
    "              ['female','male'], \\\n",
    "              'Percent Survived By Gender')"
   ]
  },
  {
   "cell_type": "markdown",
   "metadata": {},
   "source": [
    "<font size=\"4\" color=\"blue\" face=\"verdana\"> 74.20% of female survived, while only 18.89% of male survived. Female's survival rate is higher than male by 55.31%, possibly because women were allowed to the lifeboats before men as a tradition."
   ]
  },
  {
   "cell_type": "code",
   "execution_count": 51,
   "metadata": {
    "collapsed": false,
    "scrolled": false
   },
   "outputs": [
    {
     "name": "stdout",
     "output_type": "stream",
     "text": [
      "percentage of Class 1 survived 62.96%\n",
      "percentage of Class 2 survived 47.28%\n",
      "percentage of Class 3 survived 24.24%\n"
     ]
    },
    {
     "data": {
      "image/png": "[encoded data removed]",
      "text/plain": [
       "<matplotlib.figure.Figure at 0xc83c710>"
      ]
     },
     "metadata": {},
     "output_type": "display_data"
    }
   ],
   "source": [
    "percent_survived_Class_1 = calculate_percentage('Pclass',1)\n",
    "percent_survived_Class_2 = calculate_percentage('Pclass',2)\n",
    "percent_survived_Class_3 = calculate_percentage('Pclass',3)\n",
    "\n",
    "print 'percentage of Class 1 survived', '{:.2%}'.format(percent_survived_Class_1[0])\n",
    "print 'percentage of Class 2 survived', '{:.2%}'.format(percent_survived_Class_2[0])\n",
    "print 'percentage of Class 3 survived', '{:.2%}'.format(percent_survived_Class_3[0])\n",
    "\n",
    "plot_survived([percent_survived_Class_1[0],\\\n",
    "               percent_survived_Class_2[0],\\\n",
    "               percent_survived_Class_3[0]],\\\n",
    "              ['Class 1','Class 2','Class 3'],\\\n",
    "              'Percent Survived By Classes')\n",
    "\n",
    "\n"
   ]
  },
  {
   "cell_type": "code",
   "execution_count": 52,
   "metadata": {
    "collapsed": false
   },
   "outputs": [
    {
     "name": "stdout",
     "output_type": "stream",
     "text": [
      "Counts of Class 1 survived 136\n",
      "Counts of Class 2 survived 87\n",
      "Counts of Class 3 survived 119\n"
     ]
    },
    {
     "data": {
      "text/plain": [
       "<matplotlib.text.Text at 0xda64b00>"
      ]
     },
     "execution_count": 52,
     "metadata": {},
     "output_type": "execute_result"
    },
    {
     "data": {
      "image/png": "[encoded data removed]",
      "text/plain": [
       "<matplotlib.figure.Figure at 0xc4fe320>"
      ]
     },
     "metadata": {},
     "output_type": "display_data"
    }
   ],
   "source": [
    "print 'Counts of Class 1 survived', percent_survived_Class_1[1]\n",
    "print 'Counts of Class 2 survived', percent_survived_Class_2[1]\n",
    "print 'Counts of Class 3 survived',percent_survived_Class_3[1]\n",
    "\n",
    "plt.pie( [percent_survived_Class_1[1],\\\n",
    "         percent_survived_Class_2[1],\\\n",
    "         percent_survived_Class_3[1]], labels = labels, colors=colors, startangle=90)\n",
    "plt.axis('equal')\n",
    "plt.title('Counts Survived By Classes')"
   ]
  },
  {
   "cell_type": "markdown",
   "metadata": {},
   "source": [
    "<font size=\"4\" color=\"blue\" face=\"verdana\"> 62.96% of Class 1 passengers survived; 47.28% of Class 2 passengers survived; 24.24% of Class 3 passengers survived. It indicates a trend that the higher the Class, the higher the survival rate. One possible reason is that the higher the class, the higher the cabinets are on the ship and hence the easier access to the lifeboats. It could also because the ship screws gave privilege to higher class passengers to access the lifeboats.\n",
    "\n",
    "Chart 'Counts Survived By Classes' indicates that the percentage of Class 3 survived is much less than class 1, however the total counts are very close. This is probably due to the larger population of Class 3.\n"
   ]
  },
  {
   "cell_type": "code",
   "execution_count": 53,
   "metadata": {
    "collapsed": false
   },
   "outputs": [
    {
     "name": "stdout",
     "output_type": "stream",
     "text": [
      "percentage of femle from Class 1 survived 96.81%\n"
     ]
    }
   ],
   "source": [
    "### Percentage of femle from Class 1 survived\n",
    "\n",
    "#percent_survived_female = calculate_percentage(['Sex','Pclass'],['female',1])\n",
    "group = titanic_data.groupby(['Sex','Pclass']).count()['PassengerId']\n",
    "group_survived = titanic_data.groupby(['Sex','Pclass']).sum()['Survived']\n",
    "percent_survived_female = (group_survived['female',1])/float(group['female',1])\n",
    "print 'percentage of femle from Class 1 survived', '{:.2%}'.format(percent_survived_female)"
   ]
  },
  {
   "cell_type": "markdown",
   "metadata": {},
   "source": [
    "<font size=\"4\" color=\"blue\" face=\"verdana\"> It can be guessed that female in the First Class will have a higher survival rate. To test this hypothesis, data is group by both gender and class. It shows that 96.81% of female from Class 1 survived, which validated the hypothesis."
   ]
  },
  {
   "cell_type": "code",
   "execution_count": 54,
   "metadata": {
    "collapsed": false
   },
   "outputs": [
    {
     "name": "stdout",
     "output_type": "stream",
     "text": [
      "percentage of Embarked @ S survived 33.70% ( 217 / 644 )\n",
      "percentage of Embarked @ C survived 55.36% ( 93 / 168 )\n",
      "percentage of Embarked @ Q survived 38.96% ( 30 / 77 )\n",
      "\n",
      "Embarked\n",
      "C    1.886905\n",
      "Q    2.909091\n",
      "S    2.350932\n",
      "Name: Pclass, dtype: float64\n"
     ]
    }
   ],
   "source": [
    "percent_survived_Embarked_S = calculate_percentage('Embarked','S')\n",
    "percent_survived_Embarked_C = calculate_percentage('Embarked','C')\n",
    "percent_survived_Embarked_Q = calculate_percentage('Embarked','Q')\n",
    "\n",
    "print 'percentage of Embarked @ S survived', '{:.2%}'.format(percent_survived_Embarked_S[0]),'(',percent_survived_Embarked_S[1],'/',percent_survived_Embarked_S[2],')'\n",
    "print 'percentage of Embarked @ C survived', '{:.2%}'.format(percent_survived_Embarked_C[0]),'(',percent_survived_Embarked_C[1],'/',percent_survived_Embarked_C[2],')'\n",
    "print 'percentage of Embarked @ Q survived', '{:.2%}'.format(percent_survived_Embarked_Q[0]),'(',percent_survived_Embarked_Q[1],'/',percent_survived_Embarked_Q[2],')'\n",
    "\n",
    "print '\\n',titanic_data.groupby('Embarked').mean()['Pclass']\n"
   ]
  },
  {
   "cell_type": "markdown",
   "metadata": {},
   "source": [
    "<font size=\"4\" color=\"blue\" face=\"verdana\"> To investigate if the embarking location also plays a roll, data is grouped by embarking location. While intuitively there shouldn't be any relationship between embarking location and the survival rate since all people sunk at the same time, the data shows location \"C\" has a higer survival rate. This is suspicious. Further analysis shows that the people from location \"C\" also are in general in a higher Class than the other two locations. (1.88 vs 2.91 vs 2.35). This confirmed that the embarking location is not the deciding factor, but Class is. "
   ]
  },
  {
   "cell_type": "code",
   "execution_count": 55,
   "metadata": {
    "collapsed": false
   },
   "outputs": [
    {
     "name": "stdout",
     "output_type": "stream",
     "text": [
      "percentage of SibSpYes survived 46.64% ( 132 / 283 )\n",
      "percentage of SibSpNo survived 34.54% ( 210 / 608 )\n"
     ]
    },
    {
     "data": {
      "image/png": "[encoded data removed]",
      "text/plain": [
       "<matplotlib.figure.Figure at 0xc2b3cf8>"
      ]
     },
     "metadata": {},
     "output_type": "display_data"
    }
   ],
   "source": [
    "percent_survived_SibSpYes = calculate_percentage('SibSpOrNot',True)\n",
    "percent_survived_SibSpNo = calculate_percentage('SibSpOrNot',False)\n",
    "\n",
    "print 'percentage of SibSpYes survived', '{:.2%}'.format(percent_survived_SibSpYes[0]),'(',percent_survived_SibSpYes[1],'/',percent_survived_SibSpYes[2],')'\n",
    "print 'percentage of SibSpNo survived', '{:.2%}'.format(percent_survived_SibSpNo[0]),'(',percent_survived_SibSpNo[1],'/',percent_survived_SibSpNo[2],')'\n",
    "\n",
    "plot_survived([percent_survived_SibSpYes[0],percent_survived_SibSpNo[0]], \\\n",
    "              ['SibSpYes','SibSpNo'], \\\n",
    "              'Percent Survived By SibSpOrNot')"
   ]
  },
  {
   "cell_type": "code",
   "execution_count": 56,
   "metadata": {
    "collapsed": false
   },
   "outputs": [
    {
     "name": "stdout",
     "output_type": "stream",
     "text": [
      "percentage of ParchYes survived 51.17% ( 109 / 213 )\n",
      "percentage of ParchNo survived 34.37% ( 233 / 678 )\n"
     ]
    },
    {
     "data": {
      "image/png": "[encoded data removed]",
      "text/plain": [
       "<matplotlib.figure.Figure at 0xc4f77f0>"
      ]
     },
     "metadata": {},
     "output_type": "display_data"
    }
   ],
   "source": [
    "percent_survived_ParchYes = calculate_percentage('ParchOrNot',True)\n",
    "percent_survived_ParchNo = calculate_percentage('ParchOrNot',False)\n",
    "\n",
    "print 'percentage of ParchYes survived', '{:.2%}'.format(percent_survived_ParchYes[0]),'(',percent_survived_ParchYes[1],'/',percent_survived_ParchYes[2],')'\n",
    "print 'percentage of ParchNo survived', '{:.2%}'.format(percent_survived_ParchNo[0]),'(',percent_survived_ParchNo[1],'/',percent_survived_ParchNo[2],')'\n",
    "\n",
    "plot_survived([percent_survived_ParchYes[0],percent_survived_ParchNo[0]], \\\n",
    "              ['ParchYes','ParchNo'], \\\n",
    "              'Percent Survived By ParchOrNot')"
   ]
  },
  {
   "cell_type": "markdown",
   "metadata": {},
   "source": [
    "<font size=\"4\" color=\"blue\" face=\"verdana\"> The above two analysis show that having family members on board will also increase survival rate, although the reason is not well understood."
   ]
  },
  {
   "cell_type": "code",
   "execution_count": 57,
   "metadata": {
    "collapsed": false
   },
   "outputs": [
    {
     "name": "stdout",
     "output_type": "stream",
     "text": [
      "percentage of survived, Age Child 50.36% , total number of people: 139\n",
      "percentage of survived, Age Adult 38.52% , total number of people: 501\n",
      "percentage of survived, Age Senior 36.49% , total number of people: 74\n"
     ]
    },
    {
     "data": {
      "image/png": "[encoded data removed]",
      "text/plain": [
       "<matplotlib.figure.Figure at 0xd951dd8>"
      ]
     },
     "metadata": {},
     "output_type": "display_data"
    }
   ],
   "source": [
    "titanic_data['Age_categories'] = pd.cut(titanic_data['Age'], bins=[0,18,49,90], labels=[\"Child\",\"Adult\",\"Senior\"])\n",
    "\n",
    "titanic_data['Age_categories'].head(20)\n",
    "\n",
    "percent_survived_Child = calculate_percentage('Age_categories',0)\n",
    "percent_survived_Adult = calculate_percentage('Age_categories',1)\n",
    "percent_survived_Senior = calculate_percentage('Age_categories',2)\n",
    "\n",
    "total_people_byAge_categories = titanic_data.groupby('Age_categories').count()['PassengerId']\n",
    "print 'percentage of survived, Age Child', '{:.2%}'.format(percent_survived_Child[0]), ', total number of people:', total_people_byAge_categories[0]\n",
    "print 'percentage of survived, Age Adult', '{:.2%}'.format(percent_survived_Adult[0]),', total number of people:', total_people_byAge_categories[1]\n",
    "print 'percentage of survived, Age Senior', '{:.2%}'.format(percent_survived_Senior[0]),', total number of people:', total_people_byAge_categories[2]\n",
    "\n",
    "plot_survived([percent_survived_Child[0],\\\n",
    "               percent_survived_Adult[0],\\\n",
    "               percent_survived_Senior[0]],\\\n",
    "              ['Child','Adult','Senior'], \\\n",
    "              'Percent Survived By Age Categories')"
   ]
  },
  {
   "cell_type": "markdown",
   "metadata": {},
   "source": [
    "<font size=\"4\" color=\"blue\" face=\"verdana\"> Survivals Data is group by ages to study if there is any relationship between age and survial rate. Abnormal data(NaN) ages are removed beforehand to clean up the data. Initial check shows that Children have a higher survival rate than other age groups, which probably because they received more care of other people on board and got onto rescue boat first."
   ]
  },
  {
   "cell_type": "markdown",
   "metadata": {},
   "source": [
    " <font size=\"4\" color=\"blue\" face=\"verdana\">Limitations of the analysis\n",
    " \n",
    " 1. Some of the age informaion is missing. This study chose to omit these values. This could lead to lack of comprehensiveness\n",
    " \n",
    " 2. This analysis is made without statistical testing (t-test, z-test, etc.). This made us less confident that the study would reflect the entire polulation\n",
    " \n",
    " 3. There could be other variable such as the health condition, place of birth and ocupation that may affect chance of survival. \n",
    " \n",
    " 4. This investigation is only for Correlation, but not for Causation, since tests under controlled environment are made. The analysis is only based on existing data."
   ]
  },
  {
   "cell_type": "markdown",
   "metadata": {},
   "source": [
    "<font size=\"4\" color=\"blue\" face=\"verdana\"> In conclusion, with the limitation dicussed above, female, 1st Class and Senior people have a higher survial rate than other groups. If you can't choose your gender and age, buying a higher class ticket would be probably be a good choice."
   ]
  }
 ],
 "metadata": {
  "anaconda-cloud": {},
  "kernelspec": {
   "display_name": "Python [default]",
   "language": "python",
   "name": "python2"
  },
  "language_info": {
   "codemirror_mode": {
    "name": "ipython",
    "version": 2
   },
   "file_extension": ".py",
   "mimetype": "text/x-python",
   "name": "python",
   "nbconvert_exporter": "python",
   "pygments_lexer": "ipython2",
   "version": "2.7.12"
  }
 },
 "nbformat": 4,
 "nbformat_minor": 1
}
